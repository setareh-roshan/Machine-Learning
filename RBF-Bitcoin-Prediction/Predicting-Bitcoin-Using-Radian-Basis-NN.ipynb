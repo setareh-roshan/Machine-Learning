{
 "cells": [
  {
   "cell_type": "markdown",
   "metadata": {},
   "source": [
    "# Data:"
   ]
  },
  {
   "cell_type": "code",
   "execution_count": 1,
   "metadata": {},
   "outputs": [],
   "source": [
    "import numpy as np\n",
    "import pandas as pd\n",
    "from sklearn.decomposition import PCA"
   ]
  },
  {
   "cell_type": "markdown",
   "metadata": {},
   "source": [
    "## Reading"
   ]
  },
  {
   "cell_type": "code",
   "execution_count": 2,
   "metadata": {},
   "outputs": [
    {
     "name": "stdout",
     "output_type": "stream",
     "text": [
      "    Unnamed: 6\n",
      "1      57977.4\n",
      "2      57991.2\n",
      "3        59130\n",
      "4        58202\n",
      "5      57051.9\n",
      "..         ...\n",
      "466    7388.24\n",
      "467    7316.14\n",
      "468    7254.74\n",
      "469       7202\n",
      "470    7204.63\n",
      "\n",
      "[470 rows x 1 columns]\n",
      "(470, 1)\n"
     ]
    }
   ],
   "source": [
    "# put your own address in next line\n",
    "db = pd.read_excel(r'C:\\Users\\mcf\\Desktop\\Binance_BTCUSDT_d.xlsx', nrows = 472, usecols = [6]) \n",
    "\n",
    "print(db[1:471])\n",
    "Samples = np.asarray(db[1:471])\n",
    "print(Samples.shape)"
   ]
  },
  {
   "cell_type": "markdown",
   "metadata": {},
   "source": [
    "## Preparing Data"
   ]
  },
  {
   "cell_type": "code",
   "execution_count": 3,
   "metadata": {},
   "outputs": [],
   "source": [
    "class prepare_data:\n",
    "    def __init__ (self, data):\n",
    "        self.old_data = data\n",
    "        \n",
    "    def normalize (self):\n",
    "        minimum = np.amin (self.old_data, axis = 0)\n",
    "        maximum = np.amax (self.old_data, axis = 0)\n",
    "        normal = np.zeros(self.old_data.shape[0])\n",
    "        for i in range(self.old_data.shape[0]):\n",
    "            normal[i] = ((self.old_data[i] - minimum)/(maximum - minimum))\n",
    "        return normal\n",
    "    \n",
    "    def making_matrix(self, window, size, normal):\n",
    "        temp = window * (size + 1)\n",
    "        self.matrix = np.zeros(temp).reshape((size + 1), window)\n",
    "        for j in range(size):\n",
    "            for i in range(window):\n",
    "                self.matrix[j,i] = normal[j + i]\n",
    "        user_matrix = self.matrix[0:size,:]\n",
    "        return user_matrix\n",
    "    \n",
    "    def classification (self, x, binary):\n",
    "        \n",
    "        dif = self.matrix.shape[1] - 1\n",
    "\n",
    "        if (binary == True):\n",
    "            classification = np.zeros((self.matrix.shape[0]-1)*3).reshape((self.matrix.shape[0]-1),3)\n",
    "            for i in range(self.matrix.shape[0]-1):\n",
    "                if (self.matrix[i,dif] < self.matrix[i+1,dif] - x):\n",
    "                    classification [i,0] = 1\n",
    "                    classification [i,1], classification [i,2] = 0,0\n",
    "                    \n",
    "                elif (self.matrix[i+1,dif] - x <= self.matrix[i,dif] and self.matrix[i,dif] <= self.matrix[i+1,dif] + x):\n",
    "                    classification [i,1] = 1\n",
    "                    classification [i,0], classification [i,2] = 0,0\n",
    "\n",
    "                elif (self.matrix[i,dif] > self.matrix[i+1,dif] + x):\n",
    "                    classification [i,2] = 1\n",
    "                    classification [i,1], classification [i,0] = 0,0\n",
    "        else:\n",
    "            classification = np.zeros((self.matrix.shape[0] - 1))\n",
    "\n",
    "            for i in range(self.matrix.shape[0] - 1):\n",
    "                if (self.matrix[i,dif] < self.matrix[i+1,dif] - x):\n",
    "                    classification[i]=1\n",
    "                elif (self.matrix[i+1,dif] - x <= self.matrix[i,dif] and self.matrix[i,dif] <= self.matrix[i+1,dif] + x):\n",
    "                    classification[i]=2\n",
    "                elif (self.matrix[i,dif] > self.matrix[i+1,dif] + x):\n",
    "                    classification[i]=3\n",
    "                    \n",
    "        return classification\n",
    "    \n",
    "    def regression (self):\n",
    "        regression = np.zeros((self.matrix.shape[0] - 1))\n",
    "        dif = self.matrix.shape[1] - 1\n",
    "        for i in range (self.matrix.shape[0]-1):\n",
    "            regression [i] = self.matrix[i+1, dif]\n",
    "        return regression\n",
    "        "
   ]
  },
  {
   "cell_type": "markdown",
   "metadata": {},
   "source": [
    "### Making an Object"
   ]
  },
  {
   "cell_type": "code",
   "execution_count": 4,
   "metadata": {},
   "outputs": [],
   "source": [
    "new  = prepare_data(Samples)"
   ]
  },
  {
   "cell_type": "markdown",
   "metadata": {},
   "source": [
    "### Now, you can use it:"
   ]
  },
  {
   "cell_type": "code",
   "execution_count": 5,
   "metadata": {},
   "outputs": [
    {
     "name": "stdout",
     "output_type": "stream",
     "text": [
      "(400, 70)\n",
      "(400, 3)\n"
     ]
    }
   ],
   "source": [
    "nom = new.normalize()\n",
    "mat = new.making_matrix (70, 400, nom)\n",
    "print(mat.shape)\n",
    "# for binary classification put True in second third argument of 'classificatio' (below) and for non-binary put False\n",
    "cls = new.classification( 0.003, True)\n",
    "print(cls.shape)\n",
    "reg = new.regression()\n",
    "# dimension reduction is not necessary\n",
    "pca = PCA(n_components=2)\n",
    "matrix = pca.fit_transform(mat)"
   ]
  },
  {
   "cell_type": "code",
   "execution_count": 6,
   "metadata": {},
   "outputs": [],
   "source": [
    "import keras\n",
    "from sklearn_som.som import SOM\n",
    "from math import sqrt\n",
    "from math import exp"
   ]
  },
  {
   "cell_type": "code",
   "execution_count": 8,
   "metadata": {},
   "outputs": [],
   "source": [
    "def SOM_ME (train, output, epoch):\n",
    "    weights = np.random.randint(0,100,output*train.shape[0]).reshape(train.shape[0], output)/100\n",
    "    \n",
    "    initial_weights = np.zeros(output*train.shape[0]).reshape(train.shape[0], output)\n",
    "    initial_weights [:,:] = weights[:,:]\n",
    "\n",
    "    clusters = np.zeros(train.shape[1])\n",
    "    for t in range (epoch):\n",
    "        for i in range (train.shape[1]):\n",
    "            winner_index = winner (train[:,i], weights)\n",
    "            weights = new_weights (weights, winner_index, t, train, epoch)\n",
    "            #print(weights)\n",
    "            clusters[i] = winner_index\n",
    "    #distance = elbow_method(train, clusters, output)\n",
    "    return clusters #, weights, initial_weights"
   ]
  },
  {
   "cell_type": "code",
   "execution_count": 9,
   "metadata": {},
   "outputs": [],
   "source": [
    "def new_weights (out_wght, winInx, t, train, epoch):\n",
    "    result = out_wght\n",
    "    result[:,:] = 0.0\n",
    "    neighborhood = exp(-t/epoch)\n",
    "    Learning_rate = exp(-t/epoch)\n",
    "    #Influence_rate = exp(-distance/2neighborhood**2)\n",
    "    for i in range (result.shape[1]):\n",
    "        for j in range (result.shape[0]):\n",
    "            result[j,i] = out_wght[j,i] + (Learning_rate*exp(-abs(i-winInx)**2/(2*(neighborhood**2)))\n",
    "                                      *(train[j,i]-out_wght[j,i]))\n",
    "    return result"
   ]
  },
  {
   "cell_type": "code",
   "execution_count": 10,
   "metadata": {},
   "outputs": [],
   "source": [
    "def winner (sample_row, out_wght):\n",
    "    \n",
    "    result = np.zeros(out_wght.shape[1])\n",
    "    \n",
    "    for i in range (result.shape[0]):\n",
    "        result[i] = elucidean_distance(sample_row, out_wght[:,i])\n",
    "    \n",
    "    return np.argmin(result)"
   ]
  },
  {
   "cell_type": "code",
   "execution_count": 11,
   "metadata": {},
   "outputs": [],
   "source": [
    "def elucidean_distance (row1, row2):\n",
    "    size = row1.shape[0]\n",
    "    result = 0.0\n",
    "    for i in range (size):\n",
    "        result += (row1[i]-row2[i])**2\n",
    "    result = sqrt(result)\n",
    "    \n",
    "    return result"
   ]
  },
  {
   "cell_type": "code",
   "execution_count": 128,
   "metadata": {},
   "outputs": [
    {
     "data": {
      "image/png": "[encoded data removed]",
      "text/plain": [
       "<Figure size 432x288 with 1 Axes>"
      ]
     },
     "metadata": {
      "needs_background": "light"
     },
     "output_type": "display_data"
    }
   ],
   "source": [
    "import matplotlib.pyplot as plt\n",
    "plt.scatter (weights[0,:], weights[1,:])\n",
    "plt.xlabel ('x')\n",
    "plt.ylabel ('y')\n",
    "plt.title ('Final SOM weights after 100 epochs ')\n",
    "plt.show() "
   ]
  },
  {
   "cell_type": "code",
   "execution_count": 42,
   "metadata": {},
   "outputs": [
    {
     "data": {
      "image/png": "[encoded data removed]",
      "text/plain": [
       "<Figure size 432x288 with 1 Axes>"
      ]
     },
     "metadata": {
      "needs_background": "light"
     },
     "output_type": "display_data"
    }
   ],
   "source": [
    "import matplotlib.pyplot as plt\n",
    "\n",
    "plt.hist(nom.transpose(), bins = 50)\n",
    "plt.xlabel ('bins')\n",
    "plt.ylabel ('number of data')\n",
    "plt.title ('Histogram')\n",
    "plt.show() \n"
   ]
  },
  {
   "cell_type": "code",
   "execution_count": 12,
   "metadata": {},
   "outputs": [],
   "source": [
    "def elbow_method (train, cluster, k):\n",
    "    result = np.zeros(k)\n",
    "    temp = 0.0\n",
    "    final = 0.0\n",
    "    for i in range(k):\n",
    "        for j in range (train.shape[1]):\n",
    "            if (cluster[j]==i):\n",
    "                for w in range (train.shape[1]):\n",
    "                    if (cluster[w]==i):\n",
    "                        temp = elucidean_distance(train[:,j],train[:,w])\n",
    "                        if (temp > result[i]):\n",
    "                            result[i] = temp\n",
    "    final = np.amax(result)\n",
    "    return final"
   ]
  },
  {
   "cell_type": "code",
   "execution_count": 13,
   "metadata": {},
   "outputs": [],
   "source": [
    "def random_centers (k, train):\n",
    "    size = k*train.shape[0]\n",
    "    random = np.random.randint(0,(train.shape[1]-1),k)\n",
    "    result = np.zeros(train.shape[0]*k).reshape(train.shape[0],k)\n",
    "    \n",
    "    for i in range (k):\n",
    "        result[:,i] = train[:,random[i]]\n",
    "    \n",
    "    return result"
   ]
  },
  {
   "cell_type": "code",
   "execution_count": 14,
   "metadata": {},
   "outputs": [],
   "source": [
    "def changing_centers (cluster, train, k_val):\n",
    "    #print(cluster)\n",
    "    new_value = np.zeros(train.shape[0]*k_val.shape[1]).reshape(train.shape[0],k_val.shape[1])\n",
    "    count = np.ones(k_val.shape[1])\n",
    "    for i in range (k_val.shape[1]):\n",
    "        for j in range(train.shape[1]):\n",
    "            if (cluster[j] == i):\n",
    "                new_value[:,i] += train[:,j]\n",
    "                count[i] += 1\n",
    "        new_value[:,i] = new_value[:,i]/count[i]\n",
    "    \n",
    "    return new_value"
   ]
  },
  {
   "cell_type": "code",
   "execution_count": 15,
   "metadata": {},
   "outputs": [],
   "source": [
    "def distance_k (new, old):\n",
    "    distance = np.zeros(new.shape[1])\n",
    "    for i in range (new.shape[1]):\n",
    "        distance[i] = elucidean_distance(new[:,i]*100, old[:,i]*100)\n",
    "    return distance/100"
   ]
  },
  {
   "cell_type": "code",
   "execution_count": 16,
   "metadata": {},
   "outputs": [],
   "source": [
    "def K_MEANS (k, train):\n",
    "    distance = np.zeros(train.shape[1]*2).reshape(2,train.shape[1])\n",
    "    which_k = np.zeros(k)\n",
    "    k_val = random_centers(k, train)\n",
    "    cluster = np.zeros(train.shape[1])\n",
    "\n",
    "    count = np.zeros(k)\n",
    "\n",
    "    while (True):\n",
    "        count[:]=0\n",
    "\n",
    "        for i in range (train.shape[1]):\n",
    "            for j in range (k):\n",
    "                which_k[j] = elucidean_distance(k_val[:,j], train[:,i])\n",
    "            \n",
    "            cluster[i] = np.argmin(which_k)\n",
    "            count[np.argmin(which_k)]+=1\n",
    "        new_k_val = changing_centers(cluster, train, k_val)\n",
    "        #print (k_val,'\\n')\n",
    "        #print(new_k_val,'\\n')\n",
    "        continuing = distance_k(new_k_val, k_val)\n",
    "        #print(continuing)\n",
    "    \n",
    "        if (np.all(continuing<0.001)):\n",
    "            maximum_distance_per_cluster = elbow_method (train, cluster, k)\n",
    "            #print('this is count:\\n', count)\n",
    "            return cluster # maximum_distance_per_cluster\n",
    "        else:\n",
    "            k_val = changing_centers (cluster, train, k_val)"
   ]
  },
  {
   "cell_type": "code",
   "execution_count": 105,
   "metadata": {},
   "outputs": [],
   "source": [
    "max_dis = np.zeros(67)\n",
    "for i in range (3,70):\n",
    "    m = K_MEANS(i,shfl_mat[:,0:300])\n",
    "    max_dis[i-3]= m\n",
    "    "
   ]
  },
  {
   "cell_type": "code",
   "execution_count": 107,
   "metadata": {},
   "outputs": [
    {
     "data": {
      "text/plain": [
       "array([2.92807992, 2.81585613, 2.45115679, 2.45115679, 2.45115679,\n",
       "       1.84748475, 2.45115679, 2.45115679, 2.20354588, 2.20354588,\n",
       "       2.20354588, 1.34154686, 1.45622291, 1.34154686, 2.20354588,\n",
       "       1.34154686, 2.20354588, 1.34154686, 2.20354588, 1.34154686,\n",
       "       1.34154686, 1.34154686, 1.34154686, 1.34154686, 1.34154686,\n",
       "       2.20354588, 2.20354588, 1.34154686, 1.34154686, 1.34154686,\n",
       "       1.34154686, 1.34154686, 1.34154686, 1.34154686, 1.34154686,\n",
       "       1.34154686, 1.34154686, 1.34154686, 1.34154686, 1.34154686,\n",
       "       1.34154686, 1.34154686, 1.34154686, 1.34154686, 1.34154686,\n",
       "       1.34154686, 1.34154686, 1.34154686, 1.34154686, 1.34154686,\n",
       "       1.34154686, 1.34154686, 1.34154686, 1.34154686, 1.34154686,\n",
       "       1.34154686, 1.34154686, 1.34154686, 1.34154686, 1.34154686,\n",
       "       1.34154686, 1.34154686, 1.34154686, 1.34154686, 1.34154686,\n",
       "       1.34154686, 1.34154686])"
      ]
     },
     "execution_count": 107,
     "metadata": {},
     "output_type": "execute_result"
    }
   ],
   "source": [
    "max_dis"
   ]
  },
  {
   "cell_type": "code",
   "execution_count": 109,
   "metadata": {},
   "outputs": [
    {
     "data": {
      "text/plain": [
       "Text(0.5, 1.0, 'Elbow method')"
      ]
     },
     "execution_count": 109,
     "metadata": {},
     "output_type": "execute_result"
    },
    {
     "data": {
      "image/png": "[encoded data removed]",
      "text/plain": [
       "<Figure size 432x288 with 1 Axes>"
      ]
     },
     "metadata": {
      "needs_background": "light"
     },
     "output_type": "display_data"
    }
   ],
   "source": [
    "plt.plot (max_dis)\n",
    "plt.xlabel ('K')\n",
    "plt.ylabel ('Maximum distance')\n",
    "plt.title ('Elbow method')"
   ]
  },
  {
   "cell_type": "code",
   "execution_count": 17,
   "metadata": {},
   "outputs": [],
   "source": [
    "\n",
    "def Mean_Var(cluster, train):\n",
    "    cl = np.zeros(train.shape[1])\n",
    "    cl[:] = cluster[:]+1000\n",
    "    k = 0\n",
    "    for i in range (train.shape[1]):\n",
    "        tem = cluster[i]\n",
    "        t = np.where(cluster == tem)\n",
    "        index = t[0]\n",
    "        \n",
    "        if (cl[i] > 1000):\n",
    "            for j in (index):\n",
    "                cl[j] = k\n",
    "            k += 1\n",
    "    \n",
    "    Mean = np.zeros(train.shape[0]*k).reshape(train.shape[0],k)\n",
    "    vari = np.zeros(k)\n",
    "    count = 0.0\n",
    "    for i in range (k):\n",
    "        \n",
    "        idk = np.where(cl == i)\n",
    "        ind = idk[0]\n",
    "        for j in (ind):\n",
    "            Mean[:,i] += train[:,i]\n",
    "            count += 1\n",
    "        Mean[:,i] /= count\n",
    "        \n",
    "        for k in (ind):\n",
    "            vari[i] += (elucidean_distance(Mean[:,i] , train[:,k]))**2\n",
    "        vari[i] = sqrt(vari[i]/count)\n",
    "\n",
    "    return Mean,vari,k"
   ]
  },
  {
   "cell_type": "code",
   "execution_count": 18,
   "metadata": {},
   "outputs": [],
   "source": [
    "\n",
    "def RBF (train, test, mean, variance, ctrain, ctest, k):\n",
    "    fit = np.zeros(100)\n",
    "    weight = np.random.randint(-100,100,k*3).reshape(3,k)/100\n",
    "    correct = 0\n",
    "    for j in range (1000):\n",
    "        for i in range (train.shape[1]):\n",
    "            kernel_output = kernel(train[:,i], mean, variance, k)\n",
    "            weight, p = output_layer(kernel_output, ctrain[:,i], weight)\n",
    "        \n",
    "    for i in range(test.shape[1]):\n",
    "        kernel_tout = kernel(test[:,i], mean, variance, k)\n",
    "        pred = prediction(kernel_tout, ctest[:,i], weight)\n",
    "        fit[i] = pred\n",
    "        if pred == np.argmax(ctest[:,i]):\n",
    "            correct += 1\n",
    "    correct = correct/100\n",
    "    return correct"
   ]
  },
  {
   "cell_type": "code",
   "execution_count": 19,
   "metadata": {},
   "outputs": [],
   "source": [
    "def prediction (kernel_output, class_values, weight):\n",
    "    result = np.zeros(3).reshape(3,1)\n",
    "    kernelT = np.zeros(kernel_output.shape[0]).reshape(kernel_output.shape[0],1)\n",
    "    for z in range (kernel_output.shape[0]):\n",
    "        kernelT[z,0] = kernel_output[z]\n",
    "        \n",
    "    for i in range (weight.shape[0]):\n",
    "        result[i,0] = np.matmul(weight[i,:],kernelT)\n",
    "        result[i,0] = 1/(1+exp(-result[i,0]))\n",
    "\n",
    "    #print(result)\n",
    "    size = weight.shape\n",
    "    pred = np.argmax(result)\n",
    "    #print(pred)\n",
    "    return pred"
   ]
  },
  {
   "cell_type": "code",
   "execution_count": 20,
   "metadata": {},
   "outputs": [],
   "source": [
    "def output_layer (kernel_output, class_values, weight):\n",
    "    result = np.zeros(3).reshape(3,1)\n",
    "    kernelT = np.zeros(kernel_output.shape[0]).reshape(kernel_output.shape[0],1)\n",
    "    for z in range (kernel_output.shape[0]):\n",
    "        kernelT[z,0] = kernel_output[z]\n",
    "        \n",
    "    for i in range (weight.shape[0]):\n",
    "        result[i,0] = np.matmul(weight[i,:],kernelT)\n",
    "        result[i,0] = 1/(1+exp(-result[i,0]))\n",
    "    error = class_values-result\n",
    "    \n",
    "    size = weight.shape\n",
    "    \n",
    "    new_weights = np.zeros(size[0]*size[1]).reshape(size[0],size[1])\n",
    "    pred = np.argmax(result)\n",
    "    #print(pred)\n",
    "    if (np.all(abs(error) > 0.5)):\n",
    "        for i in range (3):\n",
    "            for j in range(kernel_output.shape[0]):\n",
    "                new_weights[i,j] = weight[i,j] + 0.01*error[i,0]*kernel_output[j]\n",
    "        return new_weights, pred\n",
    "    else: return weight, pred"
   ]
  },
  {
   "cell_type": "code",
   "execution_count": 21,
   "metadata": {},
   "outputs": [],
   "source": [
    "def kernel (sample, mean, variance, k):\n",
    "    result = np.zeros(k)\n",
    "    \n",
    "    for i in range (mean.shape[1]):\n",
    "        result[i] = exp(-(elucidean_distance(sample, mean[:,i]))/(2*variance[i]))\n",
    "    return result\n",
    "            "
   ]
  },
  {
   "cell_type": "code",
   "execution_count": 22,
   "metadata": {},
   "outputs": [],
   "source": [
    "\n",
    "def shuffle (array, classification, window):\n",
    "        import random as rand\n",
    "        temp = np.zeros(window).reshape(window,1)\n",
    "        for i in range(0,400):\n",
    "                random_val1 = rand.randint(0,399)\n",
    "                random_val2 = rand.randint(0,399)\n",
    "                temp = array[:,random_val1]\n",
    "                array[:,random_val1]=array[:,random_val2]\n",
    "                array[:,random_val2]=temp\n",
    "                temp = classification [:,random_val1]\n",
    "                classification[:,random_val1] = classification [:,random_val2]\n",
    "                classification[:,random_val2] = temp\n",
    "        return array, classification "
   ]
  },
  {
   "cell_type": "code",
   "execution_count": 28,
   "metadata": {},
   "outputs": [],
   "source": [
    "acc = np.zeros (60). reshape (2,30)\n",
    "for i in range (30):\n",
    "    shfl_mat,shfl_cls = shuffle (matrix.transpose(),cls.transpose(), 2)\n",
    "    clus, weights, initial = SOM_ME(shfl_mat[:,0:300], 300 , 100)\n",
    "    Kmeancluster = K_MEANS (30, shfl_mat[:,0:300])\n",
    "    mean1 , var1 ,k1 = Mean_Var(clus, shfl_mat[:,0:300])\n",
    "    mean2 , var2, k2 = Mean_Var(Kmeancluster, shfl_mat[:,0:300])\n",
    "    \n",
    "    acc [0,i] = RBF (shfl_mat[:,0:300], shfl_mat[:,300:400], mean1, var1, shfl_cls[:,0:300], shfl_cls[:,300:400], k1)\n",
    "    acc [1,i] = RBF (shfl_mat[:,0:300], shfl_mat[:,300:400], mean2, var2, shfl_cls[:,0:300], shfl_cls[:,300:400], k2)"
   ]
  },
  {
   "cell_type": "code",
   "execution_count": 33,
   "metadata": {},
   "outputs": [
    {
     "data": {
      "text/plain": [
       "array([ 0,  1,  2,  3,  4,  5,  6,  7,  8,  9, 10, 11, 12, 13, 14, 15, 16,\n",
       "       17, 18, 19, 20, 21, 22, 23, 24, 25, 26, 27, 28, 29])"
      ]
     },
     "execution_count": 33,
     "metadata": {},
     "output_type": "execute_result"
    }
   ],
   "source": [
    "num = np.arange(30)\n",
    "num"
   ]
  },
  {
   "cell_type": "code",
   "execution_count": 31,
   "metadata": {},
   "outputs": [
    {
     "data": {
      "text/plain": [
       "array([[0.38, 0.52, 0.5 , 0.31, 0.48, 0.62, 0.42, 0.42, 0.55, 0.64, 0.42,\n",
       "        0.41, 0.49, 0.38, 0.37, 0.58, 0.49, 0.41, 0.43, 0.84, 0.45, 0.46,\n",
       "        0.51, 0.35, 0.3 , 0.34, 0.41, 0.3 , 0.41, 0.5 ],\n",
       "       [0.54, 0.55, 0.32, 0.51, 0.51, 0.48, 0.42, 0.4 , 0.49, 0.49, 0.42,\n",
       "        0.42, 0.49, 0.32, 0.66, 0.4 , 0.51, 0.3 , 0.43, 0.58, 0.43, 0.42,\n",
       "        0.33, 0.45, 0.55, 0.51, 0.44, 0.53, 0.41, 0.5 ]])"
      ]
     },
     "execution_count": 31,
     "metadata": {},
     "output_type": "execute_result"
    }
   ],
   "source": [
    "acc"
   ]
  },
  {
   "cell_type": "code",
   "execution_count": 41,
   "metadata": {},
   "outputs": [
    {
     "data": {
      "image/png": "[encoded data removed]",
      "text/plain": [
       "<Figure size 432x288 with 1 Axes>"
      ]
     },
     "metadata": {
      "needs_background": "light"
     },
     "output_type": "display_data"
    }
   ],
   "source": [
    "import matplotlib.pyplot as plt\n",
    "plt.scatter(num[:],acc[0,:], color = 'lightblue')\n",
    "plt.plot (acc[0,:], color = 'lightblue', label = 'SOM_RBF')\n",
    "plt.plot (acc[1,:], color = 'coral', label = 'K MEANS_RBF')\n",
    "plt.scatter(num[:], acc[1,:], color = 'coral')\n",
    "plt.xlabel('Trails')\n",
    "plt.ylabel('Accuracy')\n",
    "plt.title('RBF performance comparison')\n",
    "plt.legend()\n",
    "plt.show()\n"
   ]
  },
  {
   "cell_type": "code",
   "execution_count": null,
   "metadata": {},
   "outputs": [],
   "source": []
  }
 ],
 "metadata": {
  "kernelspec": {
   "display_name": "Python 3",
   "language": "python",
   "name": "python3"
  },
  "language_info": {
   "codemirror_mode": {
    "name": "ipython",
    "version": 3
   },
   "file_extension": ".py",
   "mimetype": "text/x-python",
   "name": "python",
   "nbconvert_exporter": "python",
   "pygments_lexer": "ipython3",
   "version": "3.8.5"
  }
 },
 "nbformat": 4,
 "nbformat_minor": 4
}
