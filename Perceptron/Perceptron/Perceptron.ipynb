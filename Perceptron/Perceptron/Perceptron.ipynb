{
 "cells": [
  {
   "cell_type": "markdown",
   "metadata": {},
   "source": [
    "# Perceptron"
   ]
  },
  {
   "cell_type": "code",
   "execution_count": 1,
   "metadata": {},
   "outputs": [],
   "source": [
    "import numpy as np"
   ]
  },
  {
   "cell_type": "markdown",
   "metadata": {},
   "source": [
    "### Training Rule"
   ]
  },
  {
   "cell_type": "code",
   "execution_count": 2,
   "metadata": {},
   "outputs": [],
   "source": [
    "class perceptron:\n",
    "    def __init__(self, learning_rate, desiered_output):\n",
    "        self.learning_rate = learning_rate\n",
    "        self.desiered_output = desiered_output\n",
    "#-----------------------------------------------------------------------------------\n",
    "    def learning(self, InitialWeights, input_dim):\n",
    "        #print (InitialWeights)\n",
    "        self.weights = InitialWeights\n",
    "        self.x = np.ones((input_dim + 1))\n",
    "        self.error = np.ones(4)\n",
    "        self.calculated_output = 0\n",
    "        self.h = 0\n",
    "       # print (type(self.h), self.h)\n",
    "        while(100):\n",
    "            self.h = 0\n",
    "            for i in range (2):\n",
    "                for j in range (2):\n",
    "                    #print(i,j)\n",
    "                    self.x[0], self.x[1] = i,j\n",
    "                    #print(self.x)\n",
    "                    self.calculated_output = np.matmul(self.weights, self.x)\n",
    "                    self.calculated_output = self.hardlim()\n",
    "                    #print(self.desiered_output[self.h])\n",
    "                    #print(self.calculated_output)\n",
    "                    self.error[self.h] = self.desiered_output[self.h] - self.calculated_output\n",
    "                    #print('inja')\n",
    "                    self.weights += self.updating()\n",
    "                    self.h += 1\n",
    "            #print(self.weights)\n",
    "            if (self.error == 0).all():\n",
    "                return self.weights\n",
    "#-------------------------------------------------------------------------------------\n",
    "    def hardlim (self):\n",
    "        if (self.calculated_output >= 0):\n",
    "            return 1\n",
    "        elif (self.calculated_output < 0):\n",
    "            return 0\n",
    "#-------------------------------------------------------------------------------------\n",
    "    def updating (self):\n",
    "\n",
    "        #print (self.learning_rate*self.error[self.h]*(self.x))\n",
    "        return (self.learning_rate*self.error[self.h]*(self.x))"
   ]
  },
  {
   "cell_type": "markdown",
   "metadata": {},
   "source": [
    "### Initial Weights"
   ]
  },
  {
   "cell_type": "code",
   "execution_count": 3,
   "metadata": {},
   "outputs": [],
   "source": [
    "def initial_weights (input_dimension):\n",
    "    d = input_dimension + 1\n",
    "    return (np.random.randint(-10,10,d)/10)"
   ]
  },
  {
   "cell_type": "code",
   "execution_count": 5,
   "metadata": {},
   "outputs": [
    {
     "name": "stdout",
     "output_type": "stream",
     "text": [
      "[-0.6 -0.3 -0.3]\n",
      "[-0.28 -0.13  0.29]\n"
     ]
    }
   ],
   "source": [
    "AND = perceptron(0.01,np.array([1,1,1,0]))\n",
    "\n",
    "weight = initial_weights(2)\n",
    "print (weight)\n",
    "print(AND.learning(weight, 2))"
   ]
  },
  {
   "cell_type": "code",
   "execution_count": null,
   "metadata": {},
   "outputs": [],
   "source": []
  }
 ],
 "metadata": {
  "kernelspec": {
   "display_name": "Python 3",
   "language": "python",
   "name": "python3"
  },
  "language_info": {
   "codemirror_mode": {
    "name": "ipython",
    "version": 3
   },
   "file_extension": ".py",
   "mimetype": "text/x-python",
   "name": "python",
   "nbconvert_exporter": "python",
   "pygments_lexer": "ipython3",
   "version": "3.8.5"
  }
 },
 "nbformat": 4,
 "nbformat_minor": 4
}
